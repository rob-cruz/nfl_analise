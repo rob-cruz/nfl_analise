{
 "cells": [
  {
   "cell_type": "code",
   "execution_count": null,
   "id": "392d863b",
   "metadata": {},
   "outputs": [],
   "source": [
    "#!pip install html5lib"
   ]
  },
  {
   "cell_type": "code",
   "execution_count": null,
   "id": "97af6d19",
   "metadata": {},
   "outputs": [],
   "source": [
    "url = 'https://www.espn.com/nfl/team/roster/_/name/dal/dallas-cowboys'\n",
    "headers = {'User-Agent': 'Mozilla/5.0 (Windows NT 10.0; Win64; x64) AppleWebKit/537.36 (KHTML, like Gecko) Chrome/84.0.4147.135 Safari/537.36'}\n"
   ]
  },
  {
   "cell_type": "code",
   "execution_count": null,
   "id": "521242b0",
   "metadata": {},
   "outputs": [],
   "source": [
    "import requests\n",
    "import json\n",
    "from bs4 import BeautifulSoup\n",
    "import os\n",
    "import time\n",
    "import urllib.request\n"
   ]
  },
  {
   "cell_type": "code",
   "execution_count": null,
   "id": "1d60fed8",
   "metadata": {},
   "outputs": [],
   "source": [
    "espn = 'https://www.espn.com/nfl/team/roster/_/name/ari/arizona-cardinals'"
   ]
  },
  {
   "cell_type": "code",
   "execution_count": null,
   "id": "d13af771",
   "metadata": {},
   "outputs": [],
   "source": [
    "#Consulte o site e retorne o html para a variável 'page'\n",
    "page = urllib.request.urlopen(espn)"
   ]
  },
  {
   "cell_type": "code",
   "execution_count": null,
   "id": "4e4cbad1",
   "metadata": {},
   "outputs": [],
   "source": [
    "soup = BeautifulSoup(page, 'html5lib')"
   ]
  },
  {
   "cell_type": "code",
   "execution_count": null,
   "id": "3418af37",
   "metadata": {},
   "outputs": [],
   "source": [
    "print(soup.prettify())"
   ]
  },
  {
   "cell_type": "code",
   "execution_count": null,
   "id": "4efe504f",
   "metadata": {},
   "outputs": [],
   "source": [
    "#Insira a tag <li> e adicione sua classe\n",
    "list_item = soup.find('table', attrs={'class': 'Table'})"
   ]
  },
  {
   "cell_type": "code",
   "execution_count": null,
   "id": "2bcfb03c",
   "metadata": {},
   "outputs": [],
   "source": [
    "name = list_item.text.strip()\n",
    "print(name)"
   ]
  },
  {
   "cell_type": "code",
   "execution_count": null,
   "id": "14096f37",
   "metadata": {},
   "outputs": [],
   "source": [
    "#Insira a tag <li> e adicione sua classe\n",
    "column = soup.find('colgroup', attrs={'class': 'Table__Colgroup'})"
   ]
  },
  {
   "cell_type": "code",
   "execution_count": null,
   "id": "1a808cfc",
   "metadata": {},
   "outputs": [],
   "source": [
    "name1 = column.text.strip()\n",
    "print(name1)"
   ]
  },
  {
   "cell_type": "code",
   "execution_count": null,
   "id": "47e38a3b",
   "metadata": {},
   "outputs": [],
   "source": []
  },
  {
   "cell_type": "code",
   "execution_count": null,
   "id": "20ae21d8",
   "metadata": {},
   "outputs": [],
   "source": []
  },
  {
   "cell_type": "code",
   "execution_count": null,
   "id": "0acc9db8",
   "metadata": {},
   "outputs": [],
   "source": []
  }
 ],
 "metadata": {
  "kernelspec": {
   "display_name": "Python 3 (ipykernel)",
   "language": "python",
   "name": "python3"
  },
  "language_info": {
   "codemirror_mode": {
    "name": "ipython",
    "version": 3
   },
   "file_extension": ".py",
   "mimetype": "text/x-python",
   "name": "python",
   "nbconvert_exporter": "python",
   "pygments_lexer": "ipython3",
   "version": "3.10.9"
  }
 },
 "nbformat": 4,
 "nbformat_minor": 5
}
